{
 "cells": [
  {
   "cell_type": "code",
   "execution_count": 2,
   "metadata": {},
   "outputs": [
    {
     "name": "stdout",
     "output_type": "stream",
     "text": [
      "I am now printing hello world!\n"
     ]
    }
   ],
   "source": [
    "#This code helps to print something\n",
    "print('I am now printing hello world!')"
   ]
  },
  {
   "cell_type": "code",
   "execution_count": 4,
   "metadata": {},
   "outputs": [],
   "source": [
    "#Variable creation\n",
    "num_of_students = 150\n",
    "student_name='name'\n",
    "student_age = 22\n",
    "student_gpa = 4.5"
   ]
  },
  {
   "cell_type": "code",
   "execution_count": 5,
   "metadata": {},
   "outputs": [
    {
     "name": "stdout",
     "output_type": "stream",
     "text": [
      "Student name is: name\n",
      "Student age is: 22\n",
      "Student gpa is: 4.5\n"
     ]
    }
   ],
   "source": [
    "#print variables\n",
    "print('Student name is:', student_name)\n",
    "print('Student age is:', student_age)\n",
    "print('Student gpa is:', student_gpa)"
   ]
  },
  {
   "cell_type": "code",
   "execution_count": 7,
   "metadata": {},
   "outputs": [],
   "source": [
    "#function\n",
    "def student_details(student_name, student_age, student_gpa):\n",
    "    print('Student name is:', student_name)\n",
    "    print('Student age is:', student_age)\n",
    "    print('Student gpa is:', student_gpa)"
   ]
  },
  {
   "cell_type": "code",
   "execution_count": 9,
   "metadata": {},
   "outputs": [
    {
     "name": "stdout",
     "output_type": "stream",
     "text": [
      "Student name is: name2\n",
      "Student age is: 23\n",
      "Student gpa is: 4.0\n"
     ]
    }
   ],
   "source": [
    "student_details('name2',23,4.0)"
   ]
  },
  {
   "cell_type": "code",
   "execution_count": 10,
   "metadata": {},
   "outputs": [
    {
     "name": "stdout",
     "output_type": "stream",
     "text": [
      "4\n"
     ]
    }
   ],
   "source": [
    "#squares any input and sotres it in variable 'num'\n",
    "def sqr(num):\n",
    "    num = num*num\n",
    "    return num\n",
    "print(sqr(2))"
   ]
  },
  {
   "cell_type": "code",
   "execution_count": 12,
   "metadata": {},
   "outputs": [],
   "source": [
    "#defind a function that can do factorial\n",
    "def factorial(num):\n",
    "    result=1\n",
    "    for i in range(1,num+1):\n",
    "        result*=i\n",
    "    return result"
   ]
  },
  {
   "cell_type": "code",
   "execution_count": 13,
   "metadata": {},
   "outputs": [
    {
     "name": "stdout",
     "output_type": "stream",
     "text": [
      "120\n"
     ]
    }
   ],
   "source": [
    "print(factorial(5))"
   ]
  },
  {
   "cell_type": "code",
   "execution_count": null,
   "metadata": {},
   "outputs": [],
   "source": []
  }
 ],
 "metadata": {
  "kernelspec": {
   "display_name": "Python 3",
   "language": "python",
   "name": "python3"
  },
  "language_info": {
   "codemirror_mode": {
    "name": "ipython",
    "version": 3
   },
   "file_extension": ".py",
   "mimetype": "text/x-python",
   "name": "python",
   "nbconvert_exporter": "python",
   "pygments_lexer": "ipython3",
   "version": "3.7.6"
  }
 },
 "nbformat": 4,
 "nbformat_minor": 4
}

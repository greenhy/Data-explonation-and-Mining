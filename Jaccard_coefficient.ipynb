{
 "cells": [
  {
   "cell_type": "code",
   "execution_count": 7,
   "metadata": {},
   "outputs": [
    {
     "name": "stdout",
     "output_type": "stream",
     "text": [
      "['If', 'you', 'fail', 'to', 'plan', 'then', 'you', 'plan', 'to', 'fail']\n",
      "['do', 'not', 'fail', 'me', 'or', 'else', 'I', 'will', 'fail', 'you']\n",
      "\n",
      "\n",
      "{'If', 'you', 'plan', 'fail', 'to', 'then'}\n",
      "{'I', 'you', 'else', 'will', 'or', 'fail', 'not', 'me', 'do'}\n",
      "{'If', 'me', 'I', 'you', 'plan', 'else', 'will', 'not', 'or', 'fail', 'to', 'then', 'do'}\n"
     ]
    }
   ],
   "source": [
    "#calculate the vocabulary\n",
    "\n",
    "d1 = \"If you fail to plan then you plan to fail\"\n",
    "d2 = \"do not fail me or else I will fail you\"\n",
    "\n",
    "#split d1 and d2\n",
    "d1_l = d1.split()\n",
    "d2_l = d2.split()\n"
   ]
  },
  {
   "cell_type": "code",
   "execution_count": 8,
   "metadata": {},
   "outputs": [],
   "source": [
    "#list to set\n",
    "d1_s = set(d1_l)\n",
    "d2_s = set(d2_l)"
   ]
  },
  {
   "cell_type": "code",
   "execution_count": 9,
   "metadata": {},
   "outputs": [
    {
     "name": "stdout",
     "output_type": "stream",
     "text": [
      "['If', 'you', 'fail', 'to', 'plan', 'then', 'you', 'plan', 'to', 'fail']\n",
      "['do', 'not', 'fail', 'me', 'or', 'else', 'I', 'will', 'fail', 'you']\n",
      "\n",
      "\n",
      "{'If', 'you', 'plan', 'fail', 'to', 'then'}\n",
      "{'I', 'you', 'else', 'will', 'or', 'fail', 'not', 'me', 'do'}\n"
     ]
    }
   ],
   "source": [
    "print(d1_l)\n",
    "print(d2_l)\n",
    "print('\\n')\n",
    "print(d1_s)\n",
    "print(d2_s)"
   ]
  },
  {
   "cell_type": "code",
   "execution_count": 10,
   "metadata": {},
   "outputs": [
    {
     "name": "stdout",
     "output_type": "stream",
     "text": [
      "{'If', 'me', 'I', 'you', 'plan', 'else', 'will', 'not', 'or', 'fail', 'to', 'then', 'do'}\n"
     ]
    }
   ],
   "source": [
    "#combine d1_s and d2_s to make a vocabulary \n",
    "voc = d1_s.union(d2_s)\n",
    "print(voc)"
   ]
  },
  {
   "cell_type": "code",
   "execution_count": 13,
   "metadata": {},
   "outputs": [
    {
     "name": "stdout",
     "output_type": "stream",
     "text": [
      "[1, 0, 1, 1, 1, 0, 0, 0, 0, 1, 1, 1, 0]\n"
     ]
    }
   ],
   "source": [
    "#make a vector list for d1\n",
    "d1_vec=[]\n",
    "for word in voc:\n",
    "    if word in d1:\n",
    "        d1_vec.append(1)\n",
    "    else:\n",
    "        d1_vec.append(0)\n",
    "\n",
    "print(d1_vec)"
   ]
  },
  {
   "cell_type": "code",
   "execution_count": 14,
   "metadata": {},
   "outputs": [
    {
     "name": "stdout",
     "output_type": "stream",
     "text": [
      "[0, 1, 1, 1, 0, 1, 1, 1, 1, 1, 0, 0, 1]\n"
     ]
    }
   ],
   "source": [
    "#make a vector list for d2\n",
    "d2_vec=[]\n",
    "for word in voc:\n",
    "    if word in d2:\n",
    "        d2_vec.append(1)\n",
    "    else:\n",
    "        d2_vec.append(0)\n",
    "\n",
    "print(d2_vec)"
   ]
  },
  {
   "cell_type": "code",
   "execution_count": 17,
   "metadata": {},
   "outputs": [
    {
     "name": "stdout",
     "output_type": "stream",
     "text": [
      "13\n",
      "3\n",
      "0.23076923076923078\n"
     ]
    }
   ],
   "source": [
    "#calculate the Jaccard coefficient between d1 and d2\n",
    "\n",
    "#calculate set union\n",
    "s_union = len(voc)\n",
    "\n",
    "#calculate set intersection\n",
    "s_inter=0\n",
    "for i in range(s_union):\n",
    "    if d1_vec[i] == d2_vec[i]:\n",
    "        s_inter+=1\n",
    "            \n",
    "print(s_union)\n",
    "print(s_inter)\n",
    "\n",
    "#divide s_union and s_inter\n",
    "result = s_inter/s_union\n",
    "\n",
    "print(result)"
   ]
  },
  {
   "cell_type": "code",
   "execution_count": null,
   "metadata": {},
   "outputs": [],
   "source": []
  }
 ],
 "metadata": {
  "kernelspec": {
   "display_name": "Python 3",
   "language": "python",
   "name": "python3"
  },
  "language_info": {
   "codemirror_mode": {
    "name": "ipython",
    "version": 3
   },
   "file_extension": ".py",
   "mimetype": "text/x-python",
   "name": "python",
   "nbconvert_exporter": "python",
   "pygments_lexer": "ipython3",
   "version": "3.7.6"
  }
 },
 "nbformat": 4,
 "nbformat_minor": 4
}

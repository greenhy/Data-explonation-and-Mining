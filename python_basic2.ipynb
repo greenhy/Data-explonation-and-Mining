{
 "cells": [
  {
   "cell_type": "code",
   "execution_count": 1,
   "metadata": {},
   "outputs": [],
   "source": [
    "#Variable creation\n",
    "num_of_students = 150\n",
    "student_name='name'\n",
    "student_age = 22\n",
    "student_gpa = 4.5"
   ]
  },
  {
   "cell_type": "code",
   "execution_count": 2,
   "metadata": {},
   "outputs": [
    {
     "name": "stdout",
     "output_type": "stream",
     "text": [
      "<class 'int'>\n",
      "<class 'str'>\n",
      "<class 'float'>\n"
     ]
    }
   ],
   "source": [
    "#ypes of the variables\n",
    "print(type(student_age))\n",
    "print(type(student_name))\n",
    "print(type(student_gpa))"
   ]
  },
  {
   "cell_type": "code",
   "execution_count": 4,
   "metadata": {},
   "outputs": [],
   "source": [
    "#This is how empty list can be defined\n",
    "student_names= []\n",
    "student_ages = []\n",
    "student_gpas = []"
   ]
  },
  {
   "cell_type": "code",
   "execution_count": 5,
   "metadata": {},
   "outputs": [],
   "source": [
    "#define fucntion for add student information in the lists\n",
    "def student_details(student_name, student_age, student_gpa):\n",
    "    student_names.append(student_name)# add value in the list\n",
    "    student_ages.append(student_age)\n",
    "    student_gpas.append(student_gpa)"
   ]
  },
  {
   "cell_type": "code",
   "execution_count": 6,
   "metadata": {},
   "outputs": [],
   "source": [
    "student_details('student1',23,3.7)\n",
    "student_details('student2',21,3.9)\n",
    "student_details('student3',20,4.3)"
   ]
  },
  {
   "cell_type": "code",
   "execution_count": 7,
   "metadata": {},
   "outputs": [
    {
     "name": "stdout",
     "output_type": "stream",
     "text": [
      "['student1', 'student2', 'student3']\n",
      "[23, 21, 20]\n",
      "[3.7, 3.9, 4.3]\n"
     ]
    }
   ],
   "source": [
    "print(student_names)\n",
    "print(student_ages)\n",
    "print(student_gpas)"
   ]
  },
  {
   "cell_type": "code",
   "execution_count": 8,
   "metadata": {},
   "outputs": [],
   "source": [
    "#add same info\n",
    "student_details('student1',23,3.7)"
   ]
  },
  {
   "cell_type": "code",
   "execution_count": 9,
   "metadata": {},
   "outputs": [
    {
     "name": "stdout",
     "output_type": "stream",
     "text": [
      "['student1', 'student2', 'student3', 'student1']\n",
      "[23, 21, 20, 23]\n",
      "[3.7, 3.9, 4.3, 3.7]\n"
     ]
    }
   ],
   "source": [
    "#list can have duplicate records\n",
    "print(student_names)\n",
    "print(student_ages)\n",
    "print(student_gpas)"
   ]
  },
  {
   "cell_type": "code",
   "execution_count": 10,
   "metadata": {},
   "outputs": [
    {
     "ename": "TypeError",
     "evalue": "cannot perform reduce with flexible type",
     "output_type": "error",
     "traceback": [
      "\u001b[1;31m---------------------------------------------------------------------------\u001b[0m",
      "\u001b[1;31mTypeError\u001b[0m                                 Traceback (most recent call last)",
      "\u001b[1;32m<ipython-input-10-86dbcaf8cf14>\u001b[0m in \u001b[0;36m<module>\u001b[1;34m\u001b[0m\n\u001b[0;32m      2\u001b[0m \u001b[1;31m#using numpy\u001b[0m\u001b[1;33m\u001b[0m\u001b[1;33m\u001b[0m\u001b[1;33m\u001b[0m\u001b[0m\n\u001b[0;32m      3\u001b[0m \u001b[1;32mimport\u001b[0m \u001b[0mnumpy\u001b[0m \u001b[1;32mas\u001b[0m \u001b[0mnp\u001b[0m\u001b[1;33m\u001b[0m\u001b[1;33m\u001b[0m\u001b[0m\n\u001b[1;32m----> 4\u001b[1;33m \u001b[0mnp\u001b[0m\u001b[1;33m.\u001b[0m\u001b[0mmean\u001b[0m\u001b[1;33m(\u001b[0m\u001b[0mstudent_names\u001b[0m\u001b[1;33m)\u001b[0m\u001b[1;33m\u001b[0m\u001b[1;33m\u001b[0m\u001b[0m\n\u001b[0m",
      "\u001b[1;32m<__array_function__ internals>\u001b[0m in \u001b[0;36mmean\u001b[1;34m(*args, **kwargs)\u001b[0m\n",
      "\u001b[1;32m~\\anaconda3\\lib\\site-packages\\numpy\\core\\fromnumeric.py\u001b[0m in \u001b[0;36mmean\u001b[1;34m(a, axis, dtype, out, keepdims)\u001b[0m\n\u001b[0;32m   3333\u001b[0m \u001b[1;33m\u001b[0m\u001b[0m\n\u001b[0;32m   3334\u001b[0m     return _methods._mean(a, axis=axis, dtype=dtype,\n\u001b[1;32m-> 3335\u001b[1;33m                           out=out, **kwargs)\n\u001b[0m\u001b[0;32m   3336\u001b[0m \u001b[1;33m\u001b[0m\u001b[0m\n\u001b[0;32m   3337\u001b[0m \u001b[1;33m\u001b[0m\u001b[0m\n",
      "\u001b[1;32m~\\anaconda3\\lib\\site-packages\\numpy\\core\\_methods.py\u001b[0m in \u001b[0;36m_mean\u001b[1;34m(a, axis, dtype, out, keepdims)\u001b[0m\n\u001b[0;32m    149\u001b[0m             \u001b[0mis_float16_result\u001b[0m \u001b[1;33m=\u001b[0m \u001b[1;32mTrue\u001b[0m\u001b[1;33m\u001b[0m\u001b[1;33m\u001b[0m\u001b[0m\n\u001b[0;32m    150\u001b[0m \u001b[1;33m\u001b[0m\u001b[0m\n\u001b[1;32m--> 151\u001b[1;33m     \u001b[0mret\u001b[0m \u001b[1;33m=\u001b[0m \u001b[0mumr_sum\u001b[0m\u001b[1;33m(\u001b[0m\u001b[0marr\u001b[0m\u001b[1;33m,\u001b[0m \u001b[0maxis\u001b[0m\u001b[1;33m,\u001b[0m \u001b[0mdtype\u001b[0m\u001b[1;33m,\u001b[0m \u001b[0mout\u001b[0m\u001b[1;33m,\u001b[0m \u001b[0mkeepdims\u001b[0m\u001b[1;33m)\u001b[0m\u001b[1;33m\u001b[0m\u001b[1;33m\u001b[0m\u001b[0m\n\u001b[0m\u001b[0;32m    152\u001b[0m     \u001b[1;32mif\u001b[0m \u001b[0misinstance\u001b[0m\u001b[1;33m(\u001b[0m\u001b[0mret\u001b[0m\u001b[1;33m,\u001b[0m \u001b[0mmu\u001b[0m\u001b[1;33m.\u001b[0m\u001b[0mndarray\u001b[0m\u001b[1;33m)\u001b[0m\u001b[1;33m:\u001b[0m\u001b[1;33m\u001b[0m\u001b[1;33m\u001b[0m\u001b[0m\n\u001b[0;32m    153\u001b[0m         ret = um.true_divide(\n",
      "\u001b[1;31mTypeError\u001b[0m: cannot perform reduce with flexible type"
     ]
    }
   ],
   "source": [
    "#try to calculate mean -> student_names is categorical variable so this throws an error with type\n",
    "#using numpy\n",
    "import numpy as np\n",
    "np.mean(student_names)"
   ]
  },
  {
   "cell_type": "code",
   "execution_count": 11,
   "metadata": {},
   "outputs": [
    {
     "data": {
      "text/plain": [
       "ModeResult(mode=array(['student1'], dtype='<U8'), count=array([2]))"
      ]
     },
     "execution_count": 11,
     "metadata": {},
     "output_type": "execute_result"
    }
   ],
   "source": [
    "#calculate mode\n",
    "from scipy import stats\n",
    "stats.mode(student_names)"
   ]
  },
  {
   "cell_type": "code",
   "execution_count": 12,
   "metadata": {},
   "outputs": [],
   "source": [
    "#This is how an empty set can be defined\n",
    "student_names= set()\n",
    "student_ages = set()\n",
    "student_gpas = set()"
   ]
  },
  {
   "cell_type": "code",
   "execution_count": 13,
   "metadata": {},
   "outputs": [],
   "source": [
    "#define fucntion for add student information in the sets\n",
    "def student_details(student_name, student_age, student_gpa):\n",
    "    student_names.add(student_name)# add value in the set\n",
    "    student_ages.add(student_age)\n",
    "    student_gpas.add(student_gpa)"
   ]
  },
  {
   "cell_type": "code",
   "execution_count": 14,
   "metadata": {},
   "outputs": [],
   "source": [
    "student_details('student1',23,3.7)\n",
    "student_details('student2',21,3.9)\n",
    "student_details('student3',20,4.3)\n",
    "student_details('student3',20,4.3)"
   ]
  },
  {
   "cell_type": "code",
   "execution_count": 15,
   "metadata": {},
   "outputs": [
    {
     "name": "stdout",
     "output_type": "stream",
     "text": [
      "{'student1', 'student3', 'student2'}\n",
      "{20, 21, 23}\n",
      "{3.9, 3.7, 4.3}\n"
     ]
    }
   ],
   "source": [
    "#set doesn't allow duplicate entries and the order is not preserved\n",
    "print(student_names)\n",
    "print(student_ages)\n",
    "print(student_gpas)"
   ]
  },
  {
   "cell_type": "code",
   "execution_count": 17,
   "metadata": {},
   "outputs": [
    {
     "name": "stdout",
     "output_type": "stream",
     "text": [
      "This\n",
      "is\n",
      "a\n",
      "fairly\n",
      "boring\n",
      "sentence.\n"
     ]
    }
   ],
   "source": [
    "# Working with the Boolean representation\n",
    "sentence = \"This is a fairly boring sentence.\"\n",
    "\n",
    "#split the sentence\n",
    "words = sentence.split()\n",
    "\n",
    "for word in words:\n",
    "    print(word)"
   ]
  },
  {
   "cell_type": "code",
   "execution_count": 19,
   "metadata": {},
   "outputs": [
    {
     "name": "stdout",
     "output_type": "stream",
     "text": [
      "['name1', 'name2', 'name3']\n",
      "['name1', 'name2', 'name3', 'name2']\n",
      "name1\n",
      "name2\n",
      "name3\n",
      "name2\n",
      "name4 is not in the list\n",
      "name5 is not in the list\n"
     ]
    }
   ],
   "source": [
    "#manipulating lists and sets\n",
    "\n",
    "#Working with a list\n",
    "names=['name1', 'name2', 'name3']\n",
    "print(names)\n",
    "\n",
    "names.append('name2')\n",
    "print(names)\n",
    "\n",
    "for item in names:\n",
    "    print(item)\n",
    "\n",
    "#Working with two lists\n",
    "another_list = ['name4','name5']\n",
    "\n",
    "for item in another_list:\n",
    "    if item in names:\n",
    "        print(items,'is in the list')\n",
    "    else:\n",
    "        print(item,'is not in the list')"
   ]
  },
  {
   "cell_type": "code",
   "execution_count": 20,
   "metadata": {},
   "outputs": [
    {
     "name": "stdout",
     "output_type": "stream",
     "text": [
      "{'name2', 'name1'}\n",
      "{'name2', 'name3', 'name1'}\n",
      "{'name2', 'name3', 'name1'}\n"
     ]
    }
   ],
   "source": [
    "#Working with a set\n",
    "name_set={'name1','name2'}\n",
    "print(name_set)\n",
    "\n",
    "name_set.add('name3')\n",
    "print(name_set)\n",
    "\n",
    "name_set.add('name3')\n",
    "print(name_set)"
   ]
  },
  {
   "cell_type": "code",
   "execution_count": null,
   "metadata": {},
   "outputs": [],
   "source": []
  }
 ],
 "metadata": {
  "kernelspec": {
   "display_name": "Python 3",
   "language": "python",
   "name": "python3"
  },
  "language_info": {
   "codemirror_mode": {
    "name": "ipython",
    "version": 3
   },
   "file_extension": ".py",
   "mimetype": "text/x-python",
   "name": "python",
   "nbconvert_exporter": "python",
   "pygments_lexer": "ipython3",
   "version": "3.7.6"
  }
 },
 "nbformat": 4,
 "nbformat_minor": 4
}

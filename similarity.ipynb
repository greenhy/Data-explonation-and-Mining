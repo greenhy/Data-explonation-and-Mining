{
 "cells": [
  {
   "cell_type": "code",
   "execution_count": 13,
   "metadata": {},
   "outputs": [],
   "source": [
    "import math\n",
    "\n",
    "d1 = \"If you fail to plan then you plan to fail\"\n",
    "d2 = \"do not fil me or else I will fail you\"\n",
    "d3 = \"I always organise well\""
   ]
  },
  {
   "cell_type": "code",
   "execution_count": 36,
   "metadata": {},
   "outputs": [],
   "source": [
    "# define cosine_similarity to calculate consine cimilarity\n",
    "def cosine_similarity(vec1, vec2):\n",
    "#     assert (len(vec1) == len(vec2)), \" The two vectors do not have the same length\"\n",
    "#     cosine = 0\n",
    "    \n",
    "    mol=0\n",
    "    r1=0\n",
    "    r2=0\n",
    "    \n",
    "    for i in range(len(vec1)):\n",
    "        mol += (vec1[i]*vec2[i])\n",
    "    \n",
    "    \n",
    "    \n",
    "    for i in range(len(vec1)):\n",
    "        r1 += vec1[i]**2\n",
    "    for i in range(len(vec2)):\n",
    "        r2 += vec2[i]**2\n",
    "    \n",
    "    r1 = math.sqrt(r1)\n",
    "    r2 = math.sqrt(r2)\n",
    "    \n",
    "    den = r1*r2\n",
    "    \n",
    "    cosine = mol/den\n",
    "    \n",
    "    \n",
    "    return cosine"
   ]
  },
  {
   "cell_type": "code",
   "execution_count": 4,
   "metadata": {},
   "outputs": [],
   "source": [
    "def calculate_vocab(d1, d2, d3):\n",
    "    d1_l = d1.split()\n",
    "    d2_l = d2.split()\n",
    "    d3_l = d3.split()\n",
    "    \n",
    "    #list to set\n",
    "    d1_s = set(d1_l)\n",
    "    d2_s = set(d2_l)\n",
    "    d3_s = set(d3_l)\n",
    "    \n",
    "    voc = d1_s.union(d2_s)\n",
    "    voc = voc.union(d3_s)\n",
    "    print(voc)\n",
    "    \n",
    "    d1_vec=[]\n",
    "    for word in voc:\n",
    "        if word in d1:\n",
    "            d1_vec.append(1)\n",
    "        else:\n",
    "            d1_vec.append(0)\n",
    "\n",
    "    print(d1_vec)\n",
    "    \n",
    "    #make a vector list for d2\n",
    "    d2_vec=[]\n",
    "    for word in voc:\n",
    "        if word in d2:\n",
    "            d2_vec.append(1)\n",
    "        else:\n",
    "            d2_vec.append(0)\n",
    "\n",
    "    print(d2_vec)\n",
    "    \n",
    "    #make a vector list for d3\n",
    "    d3_vec=[]\n",
    "    for word in voc:\n",
    "        if word in d3:\n",
    "            d3_vec.append(1)\n",
    "        else:\n",
    "            d3_vec.append(0)\n",
    "\n",
    "    print(d3_vec)\n",
    "    \n",
    "    return [d1_vec, d2_vec, d3_vec]\n"
   ]
  },
  {
   "cell_type": "code",
   "execution_count": 10,
   "metadata": {},
   "outputs": [
    {
     "name": "stdout",
     "output_type": "stream",
     "text": [
      "{'or', 'do', 'organise', 'else', 'then', 'will', 'not', 'I', 'plan', 'to', 'If', 'you', 'fil', 'always', 'well', 'fail', 'me'}\n",
      "[0, 0, 0, 0, 1, 0, 0, 1, 1, 1, 1, 1, 0, 0, 0, 1, 0]\n",
      "[1, 1, 0, 1, 0, 1, 1, 1, 0, 0, 0, 1, 1, 0, 0, 1, 1]\n",
      "[1, 0, 1, 0, 0, 0, 0, 1, 0, 0, 0, 0, 0, 1, 1, 0, 0]\n"
     ]
    }
   ],
   "source": [
    "vec = calculate_vocab(d1,d2,d3)\n",
    "vec1 = vec[0]\n",
    "vec2 = vec[1]\n",
    "vec3 = vec[2]"
   ]
  },
  {
   "cell_type": "code",
   "execution_count": 15,
   "metadata": {},
   "outputs": [],
   "source": [
    "#define function for calculate euclidean similarity\n",
    "def euclidean_similarity(vec1, vec2):\n",
    "    \n",
    "    sum=0\n",
    "    for i in range(len(vec1)):\n",
    "        sum += (vec1[i]-vec2[i])**2\n",
    "    \n",
    "    result = math.sqrt(sum)\n",
    "    \n",
    "    return result  \n",
    "    \n"
   ]
  },
  {
   "cell_type": "code",
   "execution_count": 16,
   "metadata": {
    "scrolled": true
   },
   "outputs": [
    {
     "name": "stdout",
     "output_type": "stream",
     "text": [
      "3.3166247903554\n",
      "3.1622776601683795\n"
     ]
    }
   ],
   "source": [
    "#Euclidean similarity between d1 and d2\n",
    "print(euclidean_similarity(vec1, vec2))\n",
    "#Eulidean similarity between d1 and d3\n",
    "print(euclidean_similarity(vec1, vec3))"
   ]
  },
  {
   "cell_type": "code",
   "execution_count": 37,
   "metadata": {},
   "outputs": [
    {
     "name": "stdout",
     "output_type": "stream",
     "text": [
      "3\n",
      "8.366600265340756\n",
      "0.35856858280031806\n"
     ]
    }
   ],
   "source": [
    "#cosine similarity between d1 and d2\n",
    "print(cosine_similarity(vec1, vec2))\n",
    "# cosine similarity between d1 and d3\n",
    "# print(cosine_similarity(vec1,vec3))"
   ]
  },
  {
   "cell_type": "code",
   "execution_count": null,
   "metadata": {},
   "outputs": [],
   "source": []
  }
 ],
 "metadata": {
  "kernelspec": {
   "display_name": "Python 3",
   "language": "python",
   "name": "python3"
  },
  "language_info": {
   "codemirror_mode": {
    "name": "ipython",
    "version": 3
   },
   "file_extension": ".py",
   "mimetype": "text/x-python",
   "name": "python",
   "nbconvert_exporter": "python",
   "pygments_lexer": "ipython3",
   "version": "3.7.6"
  }
 },
 "nbformat": 4,
 "nbformat_minor": 4
}
